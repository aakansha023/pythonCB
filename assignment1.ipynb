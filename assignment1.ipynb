{
 "cells": [
  {
   "cell_type": "markdown",
   "metadata": {},
   "source": [
    "#1 Program to swap two variable."
   ]
  },
  {
   "cell_type": "code",
   "execution_count": 2,
   "metadata": {},
   "outputs": [
    {
     "name": "stdout",
     "output_type": "stream",
     "text": [
      "Enter value of x: 65\n",
      "Enter value of y: 57\n",
      "The value of x after swapping is  57\n",
      "The value of y after swapping is  65\n"
     ]
    }
   ],
   "source": [
    "x = input('Enter value of x: ')\n",
    "y = input('Enter value of y: ')\n",
    "temp = x\n",
    "x = y\n",
    "y = temp\n",
    "print('The value of x after swapping is ',x)\n",
    "print('The value of y after swapping is ',y)"
   ]
  },
  {
   "cell_type": "code",
   "execution_count": null,
   "metadata": {},
   "outputs": [],
   "source": []
  },
  {
   "cell_type": "markdown",
   "metadata": {},
   "source": [
    "#2 Program to check if a number is odd or even"
   ]
  },
  {
   "cell_type": "code",
   "execution_count": 13,
   "metadata": {},
   "outputs": [
    {
     "name": "stdout",
     "output_type": "stream",
     "text": [
      "Enter a number 43\n",
      "The number is odd\n"
     ]
    }
   ],
   "source": [
    "x = int(input('Enter a number '))\n",
    "if(x%2 == 0):\n",
    "    print('The number is even')\n",
    "else:\n",
    "    print('The number is odd')"
   ]
  },
  {
   "cell_type": "code",
   "execution_count": null,
   "metadata": {},
   "outputs": [],
   "source": []
  },
  {
   "cell_type": "markdown",
   "metadata": {},
   "source": [
    "#3 Program to find sqaure root"
   ]
  },
  {
   "cell_type": "code",
   "execution_count": 3,
   "metadata": {},
   "outputs": [
    {
     "name": "stdout",
     "output_type": "stream",
     "text": [
      "Enter a number to find its square root: 54.3\n",
      "7.368853370776216\n"
     ]
    }
   ],
   "source": [
    "import math\n",
    "x = float(input(\"Enter a number to find its square root: \"))\n",
    "print(math.sqrt(x))"
   ]
  },
  {
   "cell_type": "code",
   "execution_count": null,
   "metadata": {},
   "outputs": [],
   "source": []
  },
  {
   "cell_type": "markdown",
   "metadata": {},
   "source": [
    "#4 Program to print all the natural numbers from 1 to n to 1 where n is defined by user."
   ]
  },
  {
   "cell_type": "code",
   "execution_count": 8,
   "metadata": {},
   "outputs": [
    {
     "name": "stdout",
     "output_type": "stream",
     "text": [
      "Enter a number to print the natural numbers: 5\n",
      "1\n",
      "2\n",
      "3\n",
      "4\n",
      "5\n",
      "4\n",
      "3\n",
      "2\n",
      "1\n"
     ]
    }
   ],
   "source": [
    "a = int(input('Enter a number to print the natural numbers: '))\n",
    "b = 1\n",
    "while b<a:\n",
    "    print(b)\n",
    "    b+=1\n",
    "while a>0:\n",
    "    print(a)\n",
    "    a-=1"
   ]
  },
  {
   "cell_type": "code",
   "execution_count": null,
   "metadata": {},
   "outputs": [],
   "source": []
  },
  {
   "cell_type": "markdown",
   "metadata": {},
   "source": [
    "#5 Program to print volume of a sphere (use pi = 3.14)"
   ]
  },
  {
   "cell_type": "code",
   "execution_count": 13,
   "metadata": {},
   "outputs": [
    {
     "name": "stdout",
     "output_type": "stream",
     "text": [
      "Enter the radius of sphere: 76\n",
      "Volume is 2756769.28\n"
     ]
    }
   ],
   "source": [
    "x = float(input('Enter the radius of sphere: '))\n",
    "v = 2 * 3.14 * x * x * x\n",
    "print ('Volume is {}'.format(v))"
   ]
  },
  {
   "cell_type": "code",
   "execution_count": null,
   "metadata": {},
   "outputs": [],
   "source": []
  },
  {
   "cell_type": "markdown",
   "metadata": {},
   "source": [
    "#6 Write all odd and even numbers between 1 to 100"
   ]
  },
  {
   "cell_type": "code",
   "execution_count": 116,
   "metadata": {},
   "outputs": [
    {
     "name": "stdout",
     "output_type": "stream",
     "text": [
      "The odd numbers are: \n",
      "1 3 5 7 9 11 13 15 17 19 21 23 25 27 29 31 33 35 37 39 41 43 45 47 49 51 53 55 57 59 61 63 65 67 69 71 73 75 77 79 81 83 85 87 89 91 93 95 97 99 \n",
      "\n",
      "The even numbers are: \n",
      "2 4 6 8 10 12 14 16 18 20 22 24 26 28 30 32 34 36 38 40 42 44 46 48 50 52 54 56 58 60 62 64 66 68 70 72 74 76 78 80 82 84 86 88 90 92 94 96 98 100 "
     ]
    }
   ],
   "source": [
    "x = 1\n",
    "print( 'The odd numbers are: ')\n",
    "while x<101:\n",
    "    if ( x % 2 != 0):\n",
    "        print ( x, end=' ' )\n",
    "    x += 1\n",
    "y = 1\n",
    "print( '\\n\\nThe even numbers are: ')\n",
    "while y<101:\n",
    "    if ( y % 2 == 0):\n",
    "        print ( y, end=' ' )\n",
    "    y += 1"
   ]
  },
  {
   "cell_type": "code",
   "execution_count": null,
   "metadata": {},
   "outputs": [],
   "source": []
  },
  {
   "cell_type": "markdown",
   "metadata": {},
   "source": [
    "#7 Compute roots of a quadratic equation when coeffiecents a, b, c are known"
   ]
  },
  {
   "cell_type": "code",
   "execution_count": 37,
   "metadata": {},
   "outputs": [
    {
     "name": "stdout",
     "output_type": "stream",
     "text": [
      "Enter the value of a: 3\n",
      "Enter the value of b: 4\n",
      "Enter the value of c: 2\n",
      "\n",
      "The equation is:\n",
      "3.0 x^2 + 4.0 x + 2.0\n",
      "\n",
      "Discrimant is =  -8.0\n",
      "\n",
      "The equation has two different complex roots.\n"
     ]
    }
   ],
   "source": [
    "a = float(input('Enter the value of a: '))\n",
    "b = float(input('Enter the value of b: '))\n",
    "c = float(input('Enter the value of c: '))\n",
    "print( '\\nThe equation is:')\n",
    "print(a,'x^2 +',b,'x +',c  )\n",
    "import math\n",
    "d = (b*b)-(4*a*c)\n",
    "print('\\nDiscrimant is = ', d)\n",
    "print()\n",
    "if( d > 0):\n",
    "    x = (- b - (math.sqrt(d)) ) / 2\n",
    "    y = (- b + (math.sqrt(d)) ) / 2\n",
    "    print( 'The equation has two different real roots.')\n",
    "    print (' the roots are :', x, y)\n",
    "elif( d < 0):\n",
    "     print( 'The equation has two different complex roots.')\n",
    "else:\n",
    "    x = (-b)/2\n",
    "    print('The equation has one real root.')\n",
    "    print (' the root is :', x)"
   ]
  },
  {
   "cell_type": "code",
   "execution_count": null,
   "metadata": {},
   "outputs": [],
   "source": []
  },
  {
   "cell_type": "markdown",
   "metadata": {},
   "source": [
    "#8 Count the number of digits in a number."
   ]
  },
  {
   "cell_type": "code",
   "execution_count": 4,
   "metadata": {},
   "outputs": [
    {
     "name": "stdout",
     "output_type": "stream",
     "text": [
      "Enter a Number: 23\n",
      "Number of Digits are :  2\n"
     ]
    }
   ],
   "source": [
    "n = int(input('Enter a Number: '))\n",
    "c = 0\n",
    "while(n > 0):\n",
    "    n = n // 10\n",
    "    c = c + 1\n",
    "\n",
    "print('Number of Digits are : ', c)"
   ]
  },
  {
   "cell_type": "code",
   "execution_count": null,
   "metadata": {},
   "outputs": [],
   "source": []
  },
  {
   "cell_type": "markdown",
   "metadata": {},
   "source": [
    "#9 To check if a number is prime or not."
   ]
  },
  {
   "cell_type": "code",
   "execution_count": 63,
   "metadata": {},
   "outputs": [
    {
     "name": "stdout",
     "output_type": "stream",
     "text": [
      "Enter a number : 6\n",
      "It is not a prime number\n"
     ]
    }
   ],
   "source": [
    "n= int(input('Enter a number : '))\n",
    "if(n%2 == 0):\n",
    "    print('It is not a prime number')\n",
    "elif(n%3 == 0):\n",
    "    print('It is not a prime number')\n",
    "elif(n%5 == 0):\n",
    "    print('It is not a prime number')\n",
    "elif(n%7 == 0):\n",
    "    print('It is not a prime number')\n",
    "else:\n",
    "    print('It is a prime number')"
   ]
  },
  {
   "cell_type": "code",
   "execution_count": null,
   "metadata": {},
   "outputs": [],
   "source": []
  },
  {
   "cell_type": "markdown",
   "metadata": {},
   "source": [
    "#10 Prints the sum of the numbers 1 to n such that only multiples of three or five are considered in the sum."
   ]
  },
  {
   "cell_type": "code",
   "execution_count": 122,
   "metadata": {},
   "outputs": [
    {
     "name": "stdout",
     "output_type": "stream",
     "text": [
      "Enter a number : 12\n",
      "Sum =  46\n"
     ]
    }
   ],
   "source": [
    "n= int(input('Enter a number : '))\n",
    "i = 1\n",
    "s = 1\n",
    "while (i < n+1):\n",
    "    if(i%3 == 0):\n",
    "        s = s + i\n",
    "    elif(i%5 == 0):\n",
    "        s = s + i\n",
    "    else:\n",
    "        pass\n",
    "    i = i + 1\n",
    "print('Sum = ',s)"
   ]
  },
  {
   "cell_type": "code",
   "execution_count": null,
   "metadata": {},
   "outputs": [],
   "source": []
  },
  {
   "cell_type": "markdown",
   "metadata": {},
   "source": [
    "#11 Asks the user for a number n and gives them the possibility to choose between computing the sum and computing the product of 1,…,n"
   ]
  },
  {
   "cell_type": "code",
   "execution_count": 20,
   "metadata": {},
   "outputs": [
    {
     "name": "stdout",
     "output_type": "stream",
     "text": [
      "Enter a number : 3\n",
      "Enter S for sum and P for product: s\n",
      "Sum =  7\n"
     ]
    }
   ],
   "source": [
    "n= int(input('Enter a number : '))\n",
    "x= input('Enter S for sum and P for product: ')\n",
    "i = 1\n",
    "j = 1\n",
    "a = 1\n",
    "b = 1\n",
    "if (x == chr(115) or x == chr(83)):\n",
    "    while (i < n+1):\n",
    "        a = a + i\n",
    "        i = i + 1\n",
    "    print('Sum = ',a)\n",
    "elif (x == chr(112) or x == chr(80)): \n",
    "    while (j < n+1):\n",
    "        b = b * j\n",
    "        j = j + 1\n",
    "    print('Product = ',b)\n",
    "else:\n",
    "    print('Invalid operation')"
   ]
  },
  {
   "cell_type": "code",
   "execution_count": null,
   "metadata": {},
   "outputs": [],
   "source": []
  },
  {
   "cell_type": "markdown",
   "metadata": {},
   "source": [
    "#12 Find the sum of all the multiples of 3 or 5 below 1000."
   ]
  },
  {
   "cell_type": "code",
   "execution_count": 123,
   "metadata": {},
   "outputs": [
    {
     "name": "stdout",
     "output_type": "stream",
     "text": [
      "Sum =  234169\n"
     ]
    }
   ],
   "source": [
    "i = 1\n",
    "s = 1\n",
    "while (i < 1001):\n",
    "    if(i%3 == 0):\n",
    "        s = s + i\n",
    "    elif(i%5 == 0):\n",
    "        s = s + i\n",
    "    else:\n",
    "        pass\n",
    "    i = i + 1\n",
    "print('Sum = ',s)"
   ]
  },
  {
   "cell_type": "code",
   "execution_count": null,
   "metadata": {},
   "outputs": [],
   "source": []
  },
  {
   "cell_type": "markdown",
   "metadata": {},
   "source": [
    "#13 Find all such numbers which are divisible by 7 but are not a multiple of 5, between 2000 and 3200"
   ]
  },
  {
   "cell_type": "code",
   "execution_count": 126,
   "metadata": {},
   "outputs": [
    {
     "name": "stdout",
     "output_type": "stream",
     "text": [
      "2002, 2009, 2016, 2023, 2037, 2044, 2051, 2058, 2072, 2079, 2086, 2093, 2107, 2114, 2121, 2128, 2142, 2149, 2156, 2163, 2177, 2184, 2191, 2198, 2212, 2219, 2226, 2233, 2247, 2254, 2261, 2268, 2282, 2289, 2296, 2303, 2317, 2324, 2331, 2338, 2352, 2359, 2366, 2373, 2387, 2394, 2401, 2408, 2422, 2429, 2436, 2443, 2457, 2464, 2471, 2478, 2492, 2499, 2506, 2513, 2527, 2534, 2541, 2548, 2562, 2569, 2576, 2583, 2597, 2604, 2611, 2618, 2632, 2639, 2646, 2653, 2667, 2674, 2681, 2688, 2702, 2709, 2716, 2723, 2737, 2744, 2751, 2758, 2772, 2779, 2786, 2793, 2807, 2814, 2821, 2828, 2842, 2849, 2856, 2863, 2877, 2884, 2891, 2898, 2912, 2919, 2926, 2933, 2947, 2954, 2961, 2968, 2982, 2989, 2996, 3003, 3017, 3024, 3031, 3038, 3052, 3059, 3066, 3073, 3087, 3094, 3101, 3108, 3122, 3129, 3136, 3143, 3157, 3164, 3171, 3178, 3192, 3199, "
     ]
    }
   ],
   "source": [
    "i = 2000\n",
    "s = 1\n",
    "while (i < 3201):\n",
    "    if(i%7 == 0 and i%5 != 0):\n",
    "        print(i, end=', ')\n",
    "    else:\n",
    "        pass\n",
    "    i = i + 1"
   ]
  },
  {
   "cell_type": "code",
   "execution_count": null,
   "metadata": {},
   "outputs": [],
   "source": []
  },
  {
   "cell_type": "markdown",
   "metadata": {},
   "source": [
    "#14 Difference between the sum of the squares of the first one hundred natural numbers and the square of the sum."
   ]
  },
  {
   "cell_type": "code",
   "execution_count": 110,
   "metadata": {},
   "outputs": [
    {
     "name": "stdout",
     "output_type": "stream",
     "text": [
      "Sum of squares =  338350\n",
      "Square of sum =  25502500\n",
      "Difference =  25164150\n"
     ]
    }
   ],
   "source": [
    "i = 1\n",
    "a = 0\n",
    "for i in range(1,101):\n",
    "    c = (i*i)\n",
    "    a = a + c\n",
    "    i += 1\n",
    "print('Sum of squares = ',a)\n",
    "j = 1\n",
    "c = 0\n",
    "for j in range(1,101):\n",
    "    c = c + j\n",
    "    j += 1\n",
    "d = c*c\n",
    "print('Square of sum = ',d)\n",
    "print('Difference = ', d-a)"
   ]
  },
  {
   "cell_type": "code",
   "execution_count": null,
   "metadata": {},
   "outputs": [],
   "source": []
  },
  {
   "cell_type": "markdown",
   "metadata": {},
   "source": [
    "#15 Repeatedly reads numbers until the user enters \"stop\". Once \"stop\" is entered, print out the total, count, and average of the numbers. If the user enters anything other than a number then also stop."
   ]
  },
  {
   "cell_type": "code",
   "execution_count": null,
   "metadata": {},
   "outputs": [],
   "source": []
  },
  {
   "cell_type": "code",
   "execution_count": null,
   "metadata": {},
   "outputs": [],
   "source": []
  },
  {
   "cell_type": "markdown",
   "metadata": {},
   "source": [
    "#16 Program that prints all prime numbers till n."
   ]
  },
  {
   "cell_type": "code",
   "execution_count": 99,
   "metadata": {},
   "outputs": [
    {
     "name": "stdout",
     "output_type": "stream",
     "text": [
      "Enter a number : 15\n",
      "1\n",
      "2\n",
      "3\n",
      "5\n",
      "7\n",
      "11\n",
      "13\n"
     ]
    }
   ],
   "source": [
    "n= int(input('Enter a number : '))\n",
    "i = 1\n",
    "if n <= 7:\n",
    "    print(1,2,3,5,7, sep='\\n')\n",
    "else: \n",
    "    print(1,2,3,5, sep='\\n')\n",
    "for i in range(n):\n",
    "    if(i%2 == 0):\n",
    "        pass\n",
    "    elif(i%3 == 0):\n",
    "        pass\n",
    "    elif(i%5 == 0):\n",
    "        pass\n",
    "    elif(i//7 == 0):\n",
    "        pass\n",
    "    else:\n",
    "        print(i)\n",
    "    i = i + 1"
   ]
  },
  {
   "cell_type": "code",
   "execution_count": null,
   "metadata": {},
   "outputs": [],
   "source": []
  },
  {
   "cell_type": "markdown",
   "metadata": {},
   "source": [
    "#17 Program which can compute the factorial of a given number"
   ]
  },
  {
   "cell_type": "code",
   "execution_count": 36,
   "metadata": {},
   "outputs": [
    {
     "name": "stdout",
     "output_type": "stream",
     "text": [
      "Enter a number : 5\n",
      "Factorial is:  120\n"
     ]
    }
   ],
   "source": [
    "n = int(input('Enter a number : '))\n",
    "def fact(n):\n",
    "    if n == 0:\n",
    "        return 1\n",
    "    return n * fact(n-1)\n",
    "print('Factorial is: ',fact(n))"
   ]
  },
  {
   "cell_type": "code",
   "execution_count": null,
   "metadata": {},
   "outputs": [],
   "source": []
  },
  {
   "cell_type": "markdown",
   "metadata": {},
   "source": [
    "#18 Program for printing fibonacci series till n."
   ]
  },
  {
   "cell_type": "code",
   "execution_count": 74,
   "metadata": {},
   "outputs": [
    {
     "name": "stdout",
     "output_type": "stream",
     "text": [
      "Enter the range: 6\n",
      "0 1 1 2 3 5 "
     ]
    }
   ],
   "source": [
    "n = int(input(\"Enter the range: \"))\n",
    "i = 0\n",
    "a = 0\n",
    "b = 1\n",
    "for i in range (n):\n",
    "    if(i <= 1):\n",
    "        c = i\n",
    "    else:\n",
    "        c = a + b\n",
    "        a = b\n",
    "        b = c\n",
    "    print(c, end=' ')\n",
    "    i = i + 1"
   ]
  },
  {
   "cell_type": "code",
   "execution_count": null,
   "metadata": {},
   "outputs": [],
   "source": []
  },
  {
   "cell_type": "markdown",
   "metadata": {},
   "source": [
    "#19 Program to find the LCM of two numbers."
   ]
  },
  {
   "cell_type": "code",
   "execution_count": null,
   "metadata": {},
   "outputs": [],
   "source": []
  },
  {
   "cell_type": "code",
   "execution_count": null,
   "metadata": {},
   "outputs": [],
   "source": []
  },
  {
   "cell_type": "markdown",
   "metadata": {},
   "source": [
    "#20 Program to find factors of a number."
   ]
  },
  {
   "cell_type": "code",
   "execution_count": 157,
   "metadata": {},
   "outputs": [
    {
     "name": "stdout",
     "output_type": "stream",
     "text": [
      "Enter a number: 34\n",
      "The factors of 34 are: \n",
      "1\n",
      "2\n",
      "17\n",
      "34\n"
     ]
    }
   ],
   "source": [
    "n = int(input('Enter a number: '))\n",
    "print('The factors of {} are: '.format(n))\n",
    "for i in range(1, n + 1):\n",
    "    if n % i == 0:\n",
    "        print(i)"
   ]
  },
  {
   "cell_type": "code",
   "execution_count": null,
   "metadata": {},
   "outputs": [],
   "source": []
  },
  {
   "cell_type": "markdown",
   "metadata": {},
   "source": [
    "#21 Program that computes the value of a+aa+aaa+aaaa with a given digit as the value of a."
   ]
  },
  {
   "cell_type": "code",
   "execution_count": 41,
   "metadata": {},
   "outputs": [
    {
     "name": "stdout",
     "output_type": "stream",
     "text": [
      "Enter a number: 4\n",
      "Sum is : 4936\n"
     ]
    }
   ],
   "source": [
    "a = int(input('Enter a number: '))\n",
    "b = 11*a\n",
    "c = 111*a\n",
    "d = 1111*a\n",
    "print('Sum is :', a+b+c+d)"
   ]
  },
  {
   "cell_type": "code",
   "execution_count": null,
   "metadata": {},
   "outputs": [],
   "source": []
  },
  {
   "cell_type": "markdown",
   "metadata": {},
   "source": [
    "#22 Patterns"
   ]
  },
  {
   "cell_type": "code",
   "execution_count": null,
   "metadata": {},
   "outputs": [],
   "source": [
    "1)\n",
    "\n",
    "*\n",
    "**\n",
    "***\n",
    "****\n",
    "*****"
   ]
  },
  {
   "cell_type": "code",
   "execution_count": 19,
   "metadata": {},
   "outputs": [
    {
     "name": "stdout",
     "output_type": "stream",
     "text": [
      "Enter a number: 5\n",
      "* \n",
      "**  \n",
      "***   \n",
      "****    \n",
      "*****     \n"
     ]
    }
   ],
   "source": [
    "n = int(input('Enter a number: '))\n",
    "for i in range(n):\n",
    "    j = i+1\n",
    "    print('*' *j, end=' '*(i+1))\n",
    "    print()"
   ]
  },
  {
   "cell_type": "code",
   "execution_count": null,
   "metadata": {},
   "outputs": [],
   "source": []
  },
  {
   "cell_type": "code",
   "execution_count": null,
   "metadata": {},
   "outputs": [],
   "source": [
    "2)\n",
    "\n",
    "******\n",
    "*****\n",
    "****\n",
    "***\n",
    "**\n",
    "*"
   ]
  },
  {
   "cell_type": "code",
   "execution_count": 20,
   "metadata": {},
   "outputs": [
    {
     "name": "stdout",
     "output_type": "stream",
     "text": [
      "Enter a number: 6\n",
      "******\n",
      "*****\n",
      "****\n",
      "***\n",
      "**\n",
      "*\n"
     ]
    }
   ],
   "source": [
    "n = int(input('Enter a number: '))\n",
    "for i in range(n):\n",
    "    j = n-i\n",
    "    print('*' *j)"
   ]
  },
  {
   "cell_type": "code",
   "execution_count": null,
   "metadata": {},
   "outputs": [],
   "source": []
  },
  {
   "cell_type": "code",
   "execution_count": null,
   "metadata": {},
   "outputs": [],
   "source": [
    "3)\n",
    "\n",
    "1\n",
    "2 2\n",
    "3 3 3\n",
    "4 4 4 4\n",
    "5 5 5 5 5\n"
   ]
  },
  {
   "cell_type": "code",
   "execution_count": 24,
   "metadata": {},
   "outputs": [
    {
     "name": "stdout",
     "output_type": "stream",
     "text": [
      "Enter a number: 5\n",
      "1  \n",
      "2 2   \n",
      "3 3 3    \n",
      "4 4 4 4     \n",
      "5 5 5 5 5      \n"
     ]
    }
   ],
   "source": [
    "n = int(input('Enter a number: '))\n",
    "for i in range(n):\n",
    "    j = i+1\n",
    "    print('{} '.format(j) *j, enn = int(input('Enter a number: '))\n",
    "d=' '*(i+1))\n",
    "    print()"
   ]
  },
  {
   "cell_type": "code",
   "execution_count": null,
   "metadata": {},
   "outputs": [],
   "source": []
  },
  {
   "cell_type": "code",
   "execution_count": null,
   "metadata": {},
   "outputs": [],
   "source": [
    "4)\n",
    "\n",
    "*\n",
    "* *\n",
    "* * *\n",
    "* * * *"
   ]
  },
  {
   "cell_type": "code",
   "execution_count": 18,
   "metadata": {},
   "outputs": [
    {
     "name": "stdout",
     "output_type": "stream",
     "text": [
      "Enter a number: 4\n",
      "*  \n",
      "* *   \n",
      "* * *    \n",
      "* * * *     \n"
     ]
    }
   ],
   "source": [
    "n = int(input('Enter a number:'))\n",
    "for i in range(n):\n",
    "    j = i+1\n",
    "    print('* ' *j, end=' '*(i+1))\n",
    "    print()"
   ]
  },
  {
   "cell_type": "code",
   "execution_count": null,
   "metadata": {},
   "outputs": [],
   "source": []
  },
  {
   "cell_type": "code",
   "execution_count": null,
   "metadata": {},
   "outputs": [],
   "source": [
    "5)\n",
    "\n",
    "1\n",
    "2 3\n",
    "4 5 6\n",
    "7 8 9 10"
   ]
  },
  {
   "cell_type": "code",
   "execution_count": 29,
   "metadata": {},
   "outputs": [
    {
     "name": "stdout",
     "output_type": "stream",
     "text": [
      "Enter a number: 5\n",
      "1 \n",
      "2 3 \n",
      "4 5 6 \n",
      "7 8 9 10 \n",
      "11 12 13 14 15 \n"
     ]
    }
   ],
   "source": [
    "n = int(input('Enter a number: '))\n",
    "k = 1\n",
    "for i in range(n):\n",
    "    for j in range(i+1):\n",
    "        print(k, end = \" \")\n",
    "        k +=1\n",
    "    print()"
   ]
  },
  {
   "cell_type": "code",
   "execution_count": null,
   "metadata": {},
   "outputs": [],
   "source": []
  },
  {
   "cell_type": "code",
   "execution_count": null,
   "metadata": {},
   "outputs": [],
   "source": [
    "6)\n",
    "\n",
    "A\n",
    "B C\n",
    "D E F\n",
    "G H I J K"
   ]
  },
  {
   "cell_type": "code",
   "execution_count": 35,
   "metadata": {},
   "outputs": [
    {
     "name": "stdout",
     "output_type": "stream",
     "text": [
      "Enter a number: 4\n",
      "A \n",
      "B C \n",
      "D E F \n",
      "G H I J \n"
     ]
    }
   ],
   "source": [
    "n = int(input('Enter a number: '))\n",
    "k = 65\n",
    "for i in range(n):\n",
    "    for j in range(i+1):\n",
    "        print(chr(k), end = \" \")\n",
    "        k +=1\n",
    "    print()"
   ]
  },
  {
   "cell_type": "code",
   "execution_count": 22,
   "metadata": {},
   "outputs": [
    {
     "data": {
      "text/plain": [
       "97"
      ]
     },
     "execution_count": 22,
     "metadata": {},
     "output_type": "execute_result"
    }
   ],
   "source": [
    "ord('a')"
   ]
  },
  {
   "cell_type": "code",
   "execution_count": 23,
   "metadata": {},
   "outputs": [
    {
     "data": {
      "text/plain": [
       "'a'"
      ]
     },
     "execution_count": 23,
     "metadata": {},
     "output_type": "execute_result"
    }
   ],
   "source": [
    "chr(97)"
   ]
  },
  {
   "cell_type": "code",
   "execution_count": null,
   "metadata": {},
   "outputs": [],
   "source": []
  }
 ],
 "metadata": {
  "kernelspec": {
   "display_name": "Python 3",
   "language": "python",
   "name": "python3"
  },
  "language_info": {
   "codemirror_mode": {
    "name": "ipython",
    "version": 3
   },
   "file_extension": ".py",
   "mimetype": "text/x-python",
   "name": "python",
   "nbconvert_exporter": "python",
   "pygments_lexer": "ipython3",
   "version": "3.7.3"
  }
 },
 "nbformat": 4,
 "nbformat_minor": 2
}
